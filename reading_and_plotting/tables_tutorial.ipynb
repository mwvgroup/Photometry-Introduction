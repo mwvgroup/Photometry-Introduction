{
 "cells": [
  {
   "cell_type": "markdown",
   "metadata": {},
   "source": [
    "# Reading and plotting tables"
   ]
  },
  {
   "cell_type": "markdown",
   "metadata": {},
   "source": [
    "This notebook provides a basic overview of reading and manipulating tables using the `astropy` package. Questions, comments, and suggestions to the author are welcome. \n",
    "\n",
    "1. [Reading in Data](#reading-in-data)\n",
    "1. [Accessing Rows and Columns](#accessing-rows-and-columns)\n",
    "1. [Adding and Removing Information](#adding-and-removing-information)\n",
    "1. [Using Conditions](#using-conditions)\n",
    "1. [Joining Tables](#joining-tables)\n"
   ]
  },
  {
   "cell_type": "markdown",
   "metadata": {},
   "source": [
    "## Reading in Data"
   ]
  },
  {
   "cell_type": "markdown",
   "metadata": {},
   "source": [
    "The `astropy` package makes reading data from file very straight forward. Lets start by reading in a csv file and printing out the first ten rows of the table:"
   ]
  },
  {
   "cell_type": "code",
   "execution_count": null,
   "metadata": {
    "collapsed": true,
    "scrolled": true
   },
   "outputs": [],
   "source": [
    "from astropy.table import Table\n",
    "\n",
    "sn_table = Table.read('sn1a_list.csv', format='ascii.csv')\n",
    "print(sn_table)"
   ]
  },
  {
   "cell_type": "markdown",
   "metadata": {},
   "source": [
    "When we use print to see a table, what we get in return isn't very pretty, or even very useful to look at. Fortunately,` astropy` tables have a special method called `show_in_notebook` that lets us visualize tables in a cleaner way. This method allows us to control how many entries we see at once, and even search for entries in the table. However, ss you might expect from the name, this method only works when using python in a Jupyter notebook.\n",
    "\n",
    "Try interacting with the following table:"
   ]
  },
  {
   "cell_type": "code",
   "execution_count": null,
   "metadata": {
    "collapsed": true
   },
   "outputs": [],
   "source": [
    "sn_table.show_in_notebook(display_length=8)"
   ]
  },
  {
   "cell_type": "markdown",
   "metadata": {},
   "source": [
    "Notice that in the above example there was no need to explicitly state the format of the file we are reading. This is because `Table.read()` will automatically iterate through multiple possible formats and try to find one that works. Unfortunately, this doesn't always work, and sometimes we need to provide a little more information.\n",
    "\n",
    "This repository contains some data from the AMUSING survey as an ascii text files. You are encouraged to open this file using a text editor if you don't already know what an ascii data table looks like.\n",
    "\n",
    "The `ascii` format is not one of the formats that `Table.read` will try automatically. If we try to read the table in the same way as the cell above we get an error, demonstrated in the following cell. If `astropy` cannot read a file, it will suggest a few formats that you can try. However, if you ever need to look up the format table, it’s easier to look it up online [here](http://docs.astropy.org/en/stable/api/astropy.table.Table.html#astropy.table.Table.read).\n"
   ]
  },
  {
   "cell_type": "code",
   "execution_count": null,
   "metadata": {
    "collapsed": true
   },
   "outputs": [],
   "source": [
    "# The following line is expected to raise an error\n",
    "amusing_data = Table.read('amusing_data.txt')"
   ]
  },
  {
   "cell_type": "markdown",
   "metadata": {},
   "source": [
    "Lets try reading some ascii tables the right way. Notice that we use the descriptive variable name `amusing_data` so that we know what kind of data is in the table. This is always a good practice, especially when dealing with multiple tables."
   ]
  },
  {
   "cell_type": "code",
   "execution_count": null,
   "metadata": {
    "collapsed": true,
    "scrolled": false
   },
   "outputs": [],
   "source": [
    "# The following line should not raise an error\n",
    "amusing_data = Table.read('amusing_data.txt', format='ascii')\n",
    "amusing_data.show_in_notebook(display_length=8)"
   ]
  },
  {
   "cell_type": "markdown",
   "metadata": {},
   "source": [
    "If you have trouble reading a table, sometimes its a quick and easy fix to open the file in a text editor and change it. Sometimes it’s a simple matter of removing an extra character or two at the beginning of the file. However, not all of the files you deal with will be stored in a human readable format. In fact, as astronomers you may find that most of the files you work with cannot be changed in this way. Because of this you should always try finding the right combination of arguments for `Table.read` first. A full list of your available options can be found [here](http://docs.astropy.org/en/v0.2.1/io/ascii/read.html)."
   ]
  },
  {
   "cell_type": "markdown",
   "metadata": {},
   "source": [
    "## Accessing Rows and Columns"
   ]
  },
  {
   "cell_type": "markdown",
   "metadata": {},
   "source": [
    "One of the biggest benefits of using `astropy` tables is how easy they make it to access and modify information. `astropy` lets us access both the rows and columns of a table using ***indexing***.\n",
    "\n",
    "First let’s try accessing some columns in our table `sn_table`. Columns can be accessed by indexing the table using the desired column name as a string. Doing so will return a new table with only the columns we selected. To make life even easier, we can index a table using as many column names as we want:\n"
   ]
  },
  {
   "cell_type": "code",
   "execution_count": null,
   "metadata": {
    "collapsed": true
   },
   "outputs": [],
   "source": [
    "print(\"Fist lets check what the column names are:\")\n",
    "print(sn_table.colnames)\n",
    "\n",
    "print(\"\\n\\nHeres a new table with only the 'sn' column of sn_table:\\n\")\n",
    "sn_only_table = sn_table['sn']\n",
    "print(sn_only_table)\n",
    "\n",
    "print(\"\\n\\nWe can also select multiple columns at once:\\n\")\n",
    "multiple_colum_table = sn_table['sn', 'ra', 'dec']\n",
    "print(multiple_colum_table)\n"
   ]
  },
  {
   "cell_type": "markdown",
   "metadata": {},
   "source": [
    "We can also access one or more rows from a table. However, unlike accessing columns, for rows we use a numerical index: "
   ]
  },
  {
   "cell_type": "code",
   "execution_count": null,
   "metadata": {
    "collapsed": true
   },
   "outputs": [],
   "source": [
    "print(\"Here is the first row of sn_table:\\n\")\n",
    "print(sn_table[0])  # Don't forget that indices in Python start at 0!\n",
    "\n",
    "print(\"\\n\\n\\nHere is the first four rows of sn_table:\\n\")\n",
    "print(sn_table[0:5])\n"
   ]
  },
  {
   "cell_type": "markdown",
   "metadata": {},
   "source": [
    "Notice that when accessing multiple rows, we use a colon. When we index an object like this in Python its called ***slicing***. In the example above, the slice `0:5` corresponds to indices 0 through 4. \n",
    "\n",
    "It should be noted that it doesn't matter in what order you access rows and columns from a table.\n"
   ]
  },
  {
   "cell_type": "code",
   "execution_count": null,
   "metadata": {
    "collapsed": true
   },
   "outputs": [],
   "source": [
    "print(\"The first row of the 'sn' column:\\n\")\n",
    "print(sn_table['sn'][0])\n",
    "\n",
    "print(\"\\n\\nThe 'sn' column of the first row. Notice that this is the same as before:\\n\")\n",
    "print(sn_table[0]['sn'])\n",
    "\n",
    "print(\"\\n\\nA few columns with only the first four rows:\\n\")\n",
    "print(sn_table[0:5]['sn', 'ra', 'dec'])\n"
   ]
  },
  {
   "cell_type": "markdown",
   "metadata": {},
   "source": [
    "## Adding and Removing Information"
   ]
  },
  {
   "cell_type": "markdown",
   "metadata": {},
   "source": [
    "Adding and removing rows is pretty straight forward:"
   ]
  },
  {
   "cell_type": "code",
   "execution_count": null,
   "metadata": {
    "collapsed": true
   },
   "outputs": [],
   "source": [
    "# Lets make a copy of the table so that we can preserve the original\n",
    "# We only do this so that the original can be used in a future example\n",
    "example_table = sn_table.copy()\n",
    "\n",
    "# Remove a single row by its index\n",
    "example_table.remove_row(5)\n",
    "\n",
    "# remove multiple rows by their index\n",
    "sn_table.remove_rows([0, 1, 5])\n",
    "\n",
    "# Append a new row to the end of the table\n",
    "new_row = ['SN2009Y', 'NGC5728_1', '14:42:23.68', '-17:14:48.4',\n",
    "           0.0093, 1.018, 0.014, 0.167, 0.0150, 13.981, 0.0440]\n",
    "example_table.add_row(new_row)\n"
   ]
  },
  {
   "cell_type": "markdown",
   "metadata": {},
   "source": [
    "Columns can be removed in much the same way:"
   ]
  },
  {
   "cell_type": "code",
   "execution_count": null,
   "metadata": {
    "collapsed": true
   },
   "outputs": [],
   "source": [
    "example_table = sn_table.copy()\n",
    "\n",
    "# remove the column 'ST'\n",
    "example_table.remove_column('ST')\n"
   ]
  },
  {
   "cell_type": "markdown",
   "metadata": {},
   "source": [
    "One useful feature is the `keep_columns` method. This method removes all the columns from a table except ones that you specify:"
   ]
  },
  {
   "cell_type": "code",
   "execution_count": null,
   "metadata": {
    "collapsed": true
   },
   "outputs": [],
   "source": [
    "# Keep only the 'sn', 'ra', and 'dec' columns\n",
    "example_table.keep_columns(['sn', 'ra', 'dec'])\n",
    "print(example_table)\n"
   ]
  },
  {
   "cell_type": "markdown",
   "metadata": {},
   "source": [
    "## Using Conditions"
   ]
  },
  {
   "cell_type": "markdown",
   "metadata": {},
   "source": [
    "Let’s say we only want the entries in `amusing_data` where the `QF` column has the value `\"S\"`. It might be tempting to iterate over the table and remove any rows that don't have the value \"S\" in the column `QF`. Instead, the following is much simpler"
   ]
  },
  {
   "cell_type": "code",
   "execution_count": null,
   "metadata": {
    "collapsed": true
   },
   "outputs": [],
   "source": [
    "indicies = amusing_data['QF'] == \"S\"\n",
    "data_we_want = amusing_data[indicies]\n",
    "data_we_want.show_in_notebook(display_length=8)"
   ]
  },
  {
   "cell_type": "markdown",
   "metadata": {},
   "source": [
    "If we want, we can even combine conditions using numpy:"
   ]
  },
  {
   "cell_type": "code",
   "execution_count": null,
   "metadata": {
    "collapsed": true
   },
   "outputs": [],
   "source": [
    "import numpy as np\n",
    "\n",
    "# Get rows where QF is either S or X\n",
    "s_indicies = amusing_data['QF'] == \"S\"\n",
    "x_indicies = amusing_data['QF'] == \"X\"\n",
    "s_or_x_indices = np.logical_or(s_indicies, x_indicies)\n",
    "\n",
    "# Get rows where QF is S and Ha > 1e-13\n",
    "ha_indices = amusing_data['Ha'] > (1 * 10 ** -13)\n",
    "s_and_ha_indices = np.logical_and(s_indicies, ha_indices)\n"
   ]
  },
  {
   "cell_type": "markdown",
   "metadata": {},
   "source": [
    "## Joining Tables"
   ]
  },
  {
   "cell_type": "markdown",
   "metadata": {},
   "source": [
    "Combining two tables together is called ***joining*** them. This lets us combine information from multiple different tables together into a single, master table. Joining works by referencing ***key*** values. These are values that are used to match rows together so that we know what rows correspond to each other in different tables.\n",
    "\n",
    "Imagine you have multiple tables of supernova data. A sensible key to pick when joining tables might be the supernova's name. Unfortunately, its very common for different data tables to use different naming strategies. The supernova \"sn2012fr\" might be stored in a table as \"2012fr\", \"sn12fr\", \"2012fr\", or even by the name of its host galaxy \"NGC1365\".\n",
    "\n",
    "Here’s an example of how to combine the `sn_table` `amusing_data` tables:\n"
   ]
  },
  {
   "cell_type": "code",
   "execution_count": null,
   "metadata": {
    "collapsed": true
   },
   "outputs": [],
   "source": [
    "from astropy.table import join\n",
    "\n",
    "amusing_data_copy = amusing_data.copy()\n",
    "sn_table_copy = sn_table.copy()\n",
    "\n",
    "# we give the key columns the same name\n",
    "sn_table_copy.rename_column('amusing_name', 'amusing_key')\n",
    "amusing_data_copy.rename_column('SNNAME', 'amusing_key')\n",
    "\n",
    "combined_table = join(sn_table_copy, amusing_data_copy, keys='amusing_key')\n",
    "combined_table.show_in_notebook(display_length=8)"
   ]
  },
  {
   "cell_type": "code",
   "execution_count": null,
   "metadata": {
    "collapsed": true
   },
   "outputs": [],
   "source": []
  }
 ],
 "metadata": {
  "kernelspec": {
   "display_name": "Python 3",
   "language": "python",
   "name": "python3"
  },
  "language_info": {
   "codemirror_mode": {
    "name": "ipython",
    "version": 3
   },
   "file_extension": ".py",
   "mimetype": "text/x-python",
   "name": "python",
   "nbconvert_exporter": "python",
   "pygments_lexer": "ipython3",
   "version": "3.6.0"
  }
 },
 "nbformat": 4,
 "nbformat_minor": 2
}
