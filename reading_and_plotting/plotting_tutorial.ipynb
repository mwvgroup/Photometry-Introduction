{
 "cells": [
  {
   "cell_type": "markdown",
   "metadata": {},
   "source": [
    "# Plotting Tutorial"
   ]
  },
  {
   "cell_type": "markdown",
   "metadata": {},
   "source": [
    "This notebook provides an example of reading and manipulating tables using the `astropy` package as well as accessing specific columns in a table for plotting purposes. Example plots are shown at the end of the notebook.\n",
    "\n",
    "1. [Reading in Data & Displaying in Notebook](#reading-in-data-display-in-notebook)\n",
    "1. [Joining Tables](#joining-tables)\n",
    "1. [Keeping Specific Columns](#keeping-specific-columns)\n",
    "1. [Plotting](#plotting)"
   ]
  },
  {
   "cell_type": "markdown",
   "metadata": {},
   "source": [
    "# Reading in Data & Displaying in Notebook <a class=\"anchor\" id=\"reading-in-data-display-in-notebook\"></a>"
   ]
  },
  {
   "cell_type": "code",
   "execution_count": null,
   "metadata": {},
   "outputs": [],
   "source": [
    "from astropy.table import Table\n",
    "from astropy.table import join\n",
    "import matplotlib.pyplot as plt\n",
    "\n",
    "pisco_data = Table.read('pisco_data.txt', format='ascii')\n",
    "sn_data = Table.read('sn1a_list.csv')"
   ]
  },
  {
   "cell_type": "code",
   "execution_count": null,
   "metadata": {},
   "outputs": [],
   "source": [
    "pisco_data.show_in_notebook(display_length=10)"
   ]
  },
  {
   "cell_type": "code",
   "execution_count": null,
   "metadata": {},
   "outputs": [],
   "source": [
    "sn_data.show_in_notebook(display_length=10)"
   ]
  },
  {
   "cell_type": "markdown",
   "metadata": {},
   "source": [
    "# Joining Tables <a class=\"anchor\" id=\"joining-tables\"></a>\n",
    "\n",
    "When joining tables, it is smart to make a copy of the originally saved table data. This is important because\n",
    "if an error is made when manipulating the data, a backup copy still exists that was not overwritten and reading in the data again is not necessary.\n",
    "\n",
    "In this example, when using SN names as keys to join tables, naming conventions between tables need to be changed to match. Be careful when changing SN naming conventions - modifications for one convention may not work for other conventions. In this case, it was sufficient to simply add 'SN' to the beginning of the names in the pisco data. \n",
    "\n",
    "When finally joining the tables, the two columns by which python joins the tables must be temporarily renamed to match. It is then possible to join the tables by a single column title - in this example, 'key'."
   ]
  },
  {
   "cell_type": "code",
   "execution_count": null,
   "metadata": {},
   "outputs": [],
   "source": [
    "# Make table copies\n",
    "pisco_data_copy = pisco_data.copy()\n",
    "sn_data_copy = sn_data.copy()\n",
    "\n",
    "# Match naming conventions\n",
    "for row in pisco_data_copy:\n",
    "    if len(row['SNNAME']) < 8:\n",
    "        row['SNNAME'] = 'SN' + row['SNNAME']\n",
    "\n",
    "# Rename columns to match\n",
    "pisco_data_copy.rename_column('SNNAME', 'key')\n",
    "sn_data_copy.rename_column('sn', 'key')\n",
    "\n",
    "combined_table = join(sn_data_copy, pisco_data_copy, keys='key')\n",
    "combined_table.show_in_notebook(display_length=10)"
   ]
  },
  {
   "cell_type": "markdown",
   "metadata": {},
   "source": [
    "# Keeping Specific Columns <a class=\"anchor\" id=\"keeping-specific-columns\"></a>\n",
    "\n",
    "When a table has many columns and you only want certain columns to remain, it is easiest to use `.keep_columns` \n",
    "and specifically choose the titles of the columns you wish to keep."
   ]
  },
  {
   "cell_type": "code",
   "execution_count": null,
   "metadata": {},
   "outputs": [],
   "source": [
    "combined_table.keep_columns(['key', 'z', 'ST', 'COL', 'Bmag', 'SFR', 'OH', 'HaEW'])\n",
    "combined_table.show_in_notebook(display_length=10)"
   ]
  },
  {
   "cell_type": "markdown",
   "metadata": {},
   "source": [
    "It is important to note that `.keep_columns` will not produce the same effect as indexing the table by column names. `.keep_columns` will remove all unspecified columns in the original table, however, indexing on the column names themselves will leave the original table unchanged. By indexing, you are simply accessing the data in those columns."
   ]
  },
  {
   "cell_type": "markdown",
   "metadata": {},
   "source": [
    "# Plotting <a class=\"anchor\" id=\"plotting\"></a>\n",
    "\n",
    "Before plotting, the names of the parameters have been assigned from specific columns in the joined table above. \n",
    "It is not necessary to do this before making the plots, however, this was just to demonstrate which column\n",
    "corresponded to which parameter. "
   ]
  },
  {
   "cell_type": "code",
   "execution_count": null,
   "metadata": {},
   "outputs": [],
   "source": [
    "# Define variables\n",
    "stretch = combined_table['ST']\n",
    "color = combined_table['COL']\n",
    "app_mag = combined_table['Bmag']\n",
    "z = combined_table['z']\n",
    "sfr = combined_table['SFR']\n",
    "oh = combined_table['OH']\n",
    "haew = combined_table['HaEW']\n",
    "\n",
    "# Initiate figure\n",
    "f = plt.figure()\n",
    "plt.subplots_adjust(top = 7)\n",
    "\n",
    "# Populate six subplots on the figure initiated above\n",
    "ax1 = plt.subplot(6, 1, 1)\n",
    "ax1.scatter(sfr, stretch)\n",
    "ax1.set_xscale('log')\n",
    "ax1.set_xlim(0.0001)\n",
    "ax1.set_xlabel('SFR')\n",
    "ax1.set_ylabel('Stretch')\n",
    "\n",
    "ax2 = plt.subplot(6, 1, 2)\n",
    "ax2.scatter(oh, stretch)\n",
    "ax2.set_xlabel('OH')\n",
    "ax2.set_ylabel('Stretch')\n",
    "\n",
    "ax3 = plt.subplot(6, 1, 3)\n",
    "ax3.scatter(haew, stretch)\n",
    "ax3.set_xlabel('HaEW')\n",
    "ax3.set_ylabel('Stretch')\n",
    "\n",
    "ax4 = plt.subplot(6, 1, 4)\n",
    "ax4.scatter(z, stretch)\n",
    "ax4.set_xlabel('z')\n",
    "ax4.set_ylabel('Stretch')\n",
    "\n",
    "ax5 = plt.subplot(6, 1, 5)\n",
    "ax5.scatter(app_mag, stretch)\n",
    "ax5.set_xlabel('Bmag')\n",
    "ax5.set_ylabel('Stretch')\n",
    "\n",
    "ax6 = plt.subplot(6, 1, 6)\n",
    "ax6.scatter(color, stretch)\n",
    "ax6.set_xlabel('COL')\n",
    "ax6.set_ylabel('Stretch')\n",
    "\n",
    "plt.show()"
   ]
  },
  {
   "cell_type": "markdown",
   "metadata": {
    "collapsed": true
   },
   "source": [
    "For a more detailed subplot tutorial, see the `matploblib` demonstration [here](https://matplotlib.org/3.1.0/gallery/subplots_axes_and_figures/subplots_demo.html)."
   ]
  },
  {
   "cell_type": "code",
   "execution_count": null,
   "metadata": {},
   "outputs": [],
   "source": []
  }
 ],
 "metadata": {
  "kernelspec": {
   "display_name": "Python 3",
   "language": "python",
   "name": "python3"
  },
  "language_info": {
   "codemirror_mode": {
    "name": "ipython",
    "version": 3
   },
   "file_extension": ".py",
   "mimetype": "text/x-python",
   "name": "python",
   "nbconvert_exporter": "python",
   "pygments_lexer": "ipython3",
   "version": "3.6.6"
  }
 },
 "nbformat": 4,
 "nbformat_minor": 2
}
